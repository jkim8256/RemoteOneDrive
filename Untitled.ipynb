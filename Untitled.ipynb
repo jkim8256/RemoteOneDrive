{
 "cells": [
  {
   "cell_type": "code",
   "execution_count": 1,
   "id": "static-rochester",
   "metadata": {},
   "outputs": [
    {
     "name": "stdout",
     "output_type": "stream",
     "text": [
      "Collecting onedrivesdk_fork\n",
      "  Downloading onedrivesdk_fork-1.1.14.tar.gz (52 kB)\n",
      "\u001b[K     |████████████████████████████████| 52 kB 1.6 MB/s eta 0:00:011\n",
      "\u001b[?25hRequirement already satisfied: requests>=2.6.1 in /opt/conda/lib/python3.8/site-packages (from onedrivesdk_fork) (2.25.1)\n",
      "Requirement already satisfied: certifi>=2017.4.17 in /opt/conda/lib/python3.8/site-packages (from requests>=2.6.1->onedrivesdk_fork) (2020.12.5)\n",
      "Requirement already satisfied: urllib3<1.27,>=1.21.1 in /opt/conda/lib/python3.8/site-packages (from requests>=2.6.1->onedrivesdk_fork) (1.26.2)\n",
      "Requirement already satisfied: chardet<5,>=3.0.2 in /opt/conda/lib/python3.8/site-packages (from requests>=2.6.1->onedrivesdk_fork) (4.0.0)\n",
      "Requirement already satisfied: idna<3,>=2.5 in /opt/conda/lib/python3.8/site-packages (from requests>=2.6.1->onedrivesdk_fork) (2.10)\n",
      "Building wheels for collected packages: onedrivesdk-fork\n",
      "  Building wheel for onedrivesdk-fork (setup.py) ... \u001b[?25ldone\n",
      "\u001b[?25h  Created wheel for onedrivesdk-fork: filename=onedrivesdk_fork-1.1.14-py3-none-any.whl size=146715 sha256=19750e41da38b11331b593d3607ab6e16ef352d4cae3c1edd81d9e44509ebdfd\n",
      "  Stored in directory: /home/jovyan/.cache/pip/wheels/7e/d9/62/7ff4c989fe1287d733d46f07457b4877c9f1b99cf72ea373c4\n",
      "Successfully built onedrivesdk-fork\n",
      "Installing collected packages: onedrivesdk-fork\n",
      "Successfully installed onedrivesdk-fork-1.1.14\n",
      "Note: you may need to restart the kernel to use updated packages.\n"
     ]
    }
   ],
   "source": [
    "pip install onedrivesdk_fork"
   ]
  },
  {
   "cell_type": "code",
   "execution_count": 2,
   "id": "industrial-coalition",
   "metadata": {},
   "outputs": [],
   "source": [
    "import onedrivesdk_fork as onedrivesdk"
   ]
  },
  {
   "cell_type": "code",
   "execution_count": 3,
   "id": "immediate-watch",
   "metadata": {
    "scrolled": true
   },
   "outputs": [
    {
     "data": {
      "text/plain": [
       "'\\nredirect_uri = \\'http://localhost:8080/\\'\\nclient_secret = \\'your_client_secret\\'\\nclient_id=\\'21fb152c-485c-4e8a-9052-cd5e32eca21b\\'\\napi_base_url=\\'https://api.onedrive.com/v1.0/\\'\\nscopes=[\\'wl.signin\\', \\'wl.offline_access\\', \\'onedrive.readwrite\\']\\n\\nhttp_provider = onedrivesdk.HttpProvider()\\nauth_provider = onedrivesdk.AuthProvider(\\n    http_provider=http_provider,\\n    client_id=client_id,\\n    scopes=scopes)\\n\\nclient = onedrivesdk.OneDriveClient(api_base_url, auth_provider, http_provider)\\nauth_url = client.auth_provider.get_auth_url(redirect_uri)\\n# Ask for the code\\nprint(\\'Paste this URL into your browser, approve the app\\'s access.\\')\\nprint(\\'Copy everything in the address bar after \"code=\", and paste it below.\\')\\nprint(auth_url)\\ncode = rawinput(\"\")\\n\\nclient.auth_provider.authenticate(code, redirect_uri, client_secret)\\n'"
      ]
     },
     "execution_count": 3,
     "metadata": {},
     "output_type": "execute_result"
    }
   ],
   "source": [
    "'''\n",
    "redirect_uri = 'http://localhost:8080/'\n",
    "client_secret = 'your_client_secret'\n",
    "client_id='21fb152c-485c-4e8a-9052-cd5e32eca21b'\n",
    "api_base_url='https://api.onedrive.com/v1.0/'\n",
    "scopes=['wl.signin', 'wl.offline_access', 'onedrive.readwrite']\n",
    "\n",
    "http_provider = onedrivesdk.HttpProvider()\n",
    "auth_provider = onedrivesdk.AuthProvider(\n",
    "    http_provider=http_provider,\n",
    "    client_id=client_id,\n",
    "    scopes=scopes)\n",
    "\n",
    "client = onedrivesdk.OneDriveClient(api_base_url, auth_provider, http_provider)\n",
    "auth_url = client.auth_provider.get_auth_url(redirect_uri)\n",
    "# Ask for the code\n",
    "print('Paste this URL into your browser, approve the app\\'s access.')\n",
    "print('Copy everything in the address bar after \"code=\", and paste it below.')\n",
    "print(auth_url)\n",
    "code = rawinput(\"\")\n",
    "\n",
    "client.auth_provider.authenticate(code, redirect_uri, client_secret)\n",
    "'''"
   ]
  },
  {
   "cell_type": "code",
   "execution_count": null,
   "id": "super-revision",
   "metadata": {},
   "outputs": [],
   "source": [
    "\n",
    "from onedrivesdk_fork.helpers import GetAuthCodeServer\n",
    "\n",
    "redirect_uri = 'http://localhost:8080/'\n",
    "client_secret = 'your_app_secret'\n",
    "scopes=['wl.signin', 'wl.offline_access', 'onedrive.readwrite']\n",
    "\n",
    "client = onedrivesdk.get_default_client(\n",
    "    client_id='21fb152c-485c-4e8a-9052-cd5e32eca21b', scopes=scopes)\n",
    "\n",
    "auth_url = client.auth_provider.get_auth_url(redirect_uri)\n",
    "\n",
    "#this will block until we have the code\n",
    "code = GetAuthCodeServer.get_auth_code(auth_url, redirect_uri)\n"
   ]
  },
  {
   "cell_type": "code",
   "execution_count": null,
   "id": "labeled-honolulu",
   "metadata": {},
   "outputs": [],
   "source": [
    "from flask import Flask, render_template, request\n",
    "\n",
    "app = Flask(__name__)\n",
    "\n",
    "@app.route(\"/\")\n",
    "def index():\n",
    "    return \"hello world\""
   ]
  },
  {
   "cell_type": "code",
   "execution_count": null,
   "id": "fe41367f",
   "metadata": {},
   "outputs": [],
   "source": []
  }
 ],
 "metadata": {
  "kernelspec": {
   "display_name": "Python 3",
   "language": "python",
   "name": "python3"
  },
  "language_info": {
   "codemirror_mode": {
    "name": "ipython",
    "version": 3
   },
   "file_extension": ".py",
   "mimetype": "text/x-python",
   "name": "python",
   "nbconvert_exporter": "python",
   "pygments_lexer": "ipython3",
   "version": "3.8.6"
  }
 },
 "nbformat": 4,
 "nbformat_minor": 5
}
